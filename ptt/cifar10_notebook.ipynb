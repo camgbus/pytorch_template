{
 "cells": [
  {
   "cell_type": "code",
   "execution_count": 1,
   "metadata": {},
   "outputs": [],
   "source": [
    "import torch\n",
    "import torch.nn as nn\n",
    "import torch.optim as optim\n",
    "\n",
    "from ptt.data.dataset_classification import CIFAR10\n",
    "from ptt.models.small_cnn import SmallCNN\n",
    "from ptt.data.pytorch_dataset import ImgClassificationDataset\n",
    "from ptt.agents.classification_agent import ClassificationAgent\n",
    "from ptt.eval.result import Result\n",
    "from ptt.visualization.plot_results import plot_results"
   ]
  },
  {
   "cell_type": "code",
   "execution_count": 2,
   "metadata": {},
   "outputs": [],
   "source": [
    "config = {'batch_size':128, 'lr':1e-3, 'momentum':0.9, 'device':'cuda:0', 'nr_epochs': 5, 'tracking_interval': 1}"
   ]
  },
  {
   "cell_type": "code",
   "execution_count": 3,
   "metadata": {},
   "outputs": [],
   "source": [
    "# Fetch data, transform to PyTorch format and build dataloaders\n",
    "data = CIFAR10()\n",
    "datasets = {'train': ImgClassificationDataset(data, ix_lst=None, resize=None, norm=data.x_norm),\n",
    "    'test': ImgClassificationDataset(data, ix_lst=data.hold_out_ixs, resize=None, norm=data.x_norm)}\n",
    "dataloaders = dict()\n",
    "for split, ds in datasets.items():\n",
    "    shuffle = not(split == 'test')\n",
    "    dataloaders[split] = torch.utils.data.DataLoader(ds, batch_size=config['batch_size'], shuffle=shuffle)"
   ]
  },
  {
   "cell_type": "code",
   "execution_count": 4,
   "metadata": {},
   "outputs": [
    {
     "output_type": "execute_result",
     "data": {
      "text/plain": "SmallCNN(\n  (conv1): Conv2d(3, 6, kernel_size=(5, 5), stride=(1, 1))\n  (pool): MaxPool2d(kernel_size=2, stride=2, padding=0, dilation=1, ceil_mode=False)\n  (conv2): Conv2d(6, 16, kernel_size=(5, 5), stride=(1, 1))\n  (fc1): Linear(in_features=400, out_features=120, bias=True)\n  (fc2): Linear(in_features=120, out_features=84, bias=True)\n  (fc3): Linear(in_features=84, out_features=10, bias=True)\n)"
     },
     "metadata": {},
     "execution_count": 4
    }
   ],
   "source": [
    "# Get model\n",
    "model = SmallCNN(input_shape=data.input_shape, output_shape=data.output_shape)\n",
    "model.to(config['device'])\n"
   ]
  },
  {
   "cell_type": "code",
   "execution_count": 5,
   "metadata": {},
   "outputs": [],
   "source": [
    "# Devine criterion and optimizer\n",
    "criterion = nn.CrossEntropyLoss()\n",
    "optimizer = optim.SGD(model.parameters(), lr=config['lr'], momentum=config['momentum'])"
   ]
  },
  {
   "cell_type": "code",
   "execution_count": 6,
   "metadata": {},
   "outputs": [
    {
     "output_type": "stream",
     "name": "stdout",
     "text": "Epoch 0 data train loss 2.3038582809448243\nEpoch 0 data test loss 2.3038725243886313\nEpoch 1 data train loss 2.2923825367736814\nEpoch 1 data test loss 2.2923898975372317\nEpoch 2 data train loss 2.1474848050689697\nEpoch 2 data test loss 2.1476955076853432\n"
    }
   ],
   "source": [
    "# Train model\n",
    "results = Result(name='training_trajectory')\n",
    "agent = ClassificationAgent(config=config, base_criterion=criterion, verbose=True)\n",
    "agent.train(results, model, optimizer, trainloader=dataloaders['train'], dataloaders=dataloaders)"
   ]
  },
  {
   "cell_type": "code",
   "execution_count": 10,
   "metadata": {},
   "outputs": [
    {
     "output_type": "stream",
     "name": "stdout",
     "text": "2\n"
    }
   ],
   "source": [
    "# Visualize results\n",
    "save_path = os.path.join('test', 'test_obj')\n",
    "plot_results(res, measures=['accuracy'], save_path=save_path, title='CIFAR10 example accuracy', ending='.png')\n",
    "plot_results(res, measures=['loss'], save_path=save_path, ylog=True, title='CIFAR10 example loss', ending='.png')"
   ]
  },
  {
   "cell_type": "code",
   "execution_count": null,
   "metadata": {},
   "outputs": [],
   "source": []
  }
 ],
 "metadata": {
  "language_info": {
   "codemirror_mode": {
    "name": "ipython",
    "version": 3
   },
   "file_extension": ".py",
   "mimetype": "text/x-python",
   "name": "python",
   "nbconvert_exporter": "python",
   "pygments_lexer": "ipython3",
   "version": "3.7.7-final"
  },
  "orig_nbformat": 2,
  "kernelspec": {
   "name": "python37764bitmyenvconda235dbade56224384a7e3084c0f73654e",
   "display_name": "Python 3.7.7 64-bit ('myenv': conda)"
  }
 },
 "nbformat": 4,
 "nbformat_minor": 2
}